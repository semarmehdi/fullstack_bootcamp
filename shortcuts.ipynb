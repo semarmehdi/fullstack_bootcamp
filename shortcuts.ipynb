{
 "cells": [
  {
   "cell_type": "markdown",
   "id": "0a7ef836",
   "metadata": {},
   "source": [
    "# Keyboard shortcuts\n",
    "- Shift+Enter to execute a cell\n",
    "- DD to delete a selected cell\n",
    "- B or A to insert a cell below or above the selected cell\n",
    "- M to turn a selected code cell into a markdown cell\n"
   ]
  },
  {
   "cell_type": "markdown",
   "id": "d19236c8",
   "metadata": {},
   "source": [
    "# Terminal Commands\n",
    "\t\t\n",
    "- dir\tlists content of current directory (folder)\t\n",
    "- cd\tadd new path - changes directory (folder)\t\n",
    "- cd..\tto go back to previous folder\n",
    "- ls    to list content of a folder\t\n",
    "- clear\t      to clean everything up on the terminal page\t\n",
    "- mkdir + folder name       to create a new folder\n",
    "- touch + file name.file extension       to create a new file\n",
    "- code .     to open the current file in VSC\n",
    "- mv + file name including extension + new location      to move a file"
   ]
  },
  {
   "cell_type": "markdown",
   "id": "a0f52fab",
   "metadata": {},
   "source": [
    "# Basic terminal commands to manage files (Julie)\n",
    "### In M01-D01, you learnt how to navigate into your filesystem with your terminal, using the commands pwd, cd and ls. Let's introduce some additonnal bash commands that will allow you to manage files and directories :\n",
    "\n",
    "- mkdir dirname: Create a new directory\n",
    "- touch filename: Create a new empty file\n",
    "- open filename: Open filename with the default software related to its extension\n",
    "- cp existing_file new_file: Copy existing_file into new_file. Both existing_file and new_file can include paths (relatively to your working directory). For example, cp ../file1.ipynb folder1/file2.ipynb will create a copy of file1.ipynb which is stored in the parent directory of your working directory, and save it into folder1/ directory which is located in your working directory, by renaming it file2.ipynb.\n",
    "- mv existing_file new_location: Move existing_file to new_location. You can use paths in the same way as with the cp command. For example, mv file1.py folder1/file1.py will move file1.py into folder1. You can also use this command to rename files, for example : mv file1.md README.md will rename file1.md into README.md\n",
    "### NB : all the commands listed above will be executed relatively to your working directory. You can know at any time in which directory you are with the pwd command, and use cd to change your working directory."
   ]
  },
  {
   "cell_type": "markdown",
   "id": "cf085954",
   "metadata": {},
   "source": []
  },
  {
   "cell_type": "markdown",
   "id": "4282c870",
   "metadata": {},
   "source": [
    "# How to configure Git (Julie)\n",
    "\n",
    "Configure Git\n",
    "Before starting to use Git, you must set up your username and e-mail.\n",
    "\n",
    "Open the terminal and type the command :\n",
    "\n",
    "git config --global user.name\n",
    "\n",
    "This allows to check what is your default username. If you never used Git before on your laptop, the command will return nothing.\n",
    "\n",
    "To set up or to change your username, just type :\n",
    "\n",
    "git config --global user.name \"your_username_here\"\n",
    "Then, you can set up your email. To do so, it's the same process as with your username, you just have to replace .name by .email :\n",
    "\n",
    "git config --global user.email\n",
    "\n",
    "To set up or to change your username, just type :\n",
    "\n",
    "git config --global user.email \"your_email_here\"\n",
    "\n",
    "Now you're ready to use Git and Github !"
   ]
  },
  {
   "cell_type": "markdown",
   "id": "df263521",
   "metadata": {},
   "source": []
  },
  {
   "cell_type": "markdown",
   "id": "31ddc3c7",
   "metadata": {},
   "source": [
    "# How to work with Git in Terminal (Julie)\n",
    "\n",
    "## Create a local copy of the repository\n",
    "On Github : go to your new repository's homepage and click on the \"clone or download\" green button, then copy the url of your repository to you clipboard (check that the url ends with the \".git\" extension)\n",
    "\n",
    "## In your terminal :\n",
    "\n",
    "- Use the commands pwd, cd and ls to navigate in your filesystem and go wherever you would like to store the repository\n",
    "- Type git clone url_to_your_repository.git (replace url_to_your_repository.git by the url you just copied)\n",
    "- Use the terminal commands to check that the repository has been downloaded and that it contains a file named README.md\n",
    "- Before continuing with this exercise, make sure your working directory is the repository you just downloaded.\n",
    "\n",
    "## Manage changes in the repository with Git\n",
    "\n",
    "### Add a new file in the local repository and add it to the tracked files\n",
    "\n",
    "- Type git status : you'll read a sentence \"nothing to commit, working tree clean\" which means that Git hasn't detected any modification in the repository yet\n",
    "- Use the terminal commands to create a copy of yesterday's exercise 01b-Calculate_interests.ipynb in the repository.\n",
    "- Type git status : now you'll read \"nothing added to commit but untracked files present (use \"git add\" to track)\", which means that Git has detected a new file (that will appear in red)\n",
    "- To track changes in this file, type git add 01b-Calculate_interests.ipynb (or git add . this later meaning \"add all files located in the working directory\")\n",
    "- Type again git status : the file appears now in green and you can read \"Changes to be committed\". Now you're ready for your first commit !\n",
    "\n",
    "### Your first commit\n",
    "- To save the history of changes in the file you just added, type :\n",
    "\n",
    "git commit -m \"add new notebook with solutions to exercise on interests\"\n",
    "\n",
    "### More commits\n",
    "Open your notebook and make a few changes (you can for example, use markdown syntax to add some titles)\n",
    "Save your notebook\n",
    "Repeat the previous steps with git add and git commit to save the history of changes\n",
    "Type git log : you'll see the list of commits you've made\n",
    "\n",
    "- Push to Github\n",
    "Just type :\n",
    "git push\n",
    "\n",
    "- Then go to your remote repository's homepage on Github, and check that your notebook is now online. Try to find the history of commmits on Github's interface."
   ]
  }
 ],
 "metadata": {
  "kernelspec": {
   "display_name": "base",
   "language": "python",
   "name": "python3"
  },
  "language_info": {
   "codemirror_mode": {
    "name": "ipython",
    "version": 3
   },
   "file_extension": ".py",
   "mimetype": "text/x-python",
   "name": "python",
   "nbconvert_exporter": "python",
   "pygments_lexer": "ipython3",
   "version": "3.13.5"
  }
 },
 "nbformat": 4,
 "nbformat_minor": 5
}
